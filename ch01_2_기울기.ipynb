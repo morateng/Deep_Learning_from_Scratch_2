{
  "nbformat": 4,
  "nbformat_minor": 0,
  "metadata": {
    "colab": {
      "private_outputs": true,
      "provenance": [],
      "authorship_tag": "ABX9TyOa4iiDbFjBV3hbo38GwBM6",
      "include_colab_link": true
    },
    "kernelspec": {
      "name": "python3",
      "display_name": "Python 3"
    },
    "language_info": {
      "name": "python"
    }
  },
  "cells": [
    {
      "cell_type": "markdown",
      "metadata": {
        "id": "view-in-github",
        "colab_type": "text"
      },
      "source": [
        "<a href=\"https://colab.research.google.com/github/morateng/Deep_Learning_from_Scratch_2/blob/main/ch01_2_%EA%B8%B0%EC%9A%B8%EA%B8%B0.ipynb\" target=\"_parent\"><img src=\"https://colab.research.google.com/assets/colab-badge.svg\" alt=\"Open In Colab\"/></a>"
      ]
    },
    {
      "cell_type": "code",
      "execution_count": null,
      "metadata": {
        "id": "bsBjFRdGTwH1"
      },
      "outputs": [],
      "source": [
        "import numpy as np\n",
        "D, N = 8, 7\n",
        "x = np.random.randn(1,D)\n",
        "y = np.repeat(x, N, axis=0)"
      ]
    },
    {
      "cell_type": "code",
      "source": [
        "dy = np.random.randn(N, D)\n",
        "dx = np.sum(dy, axis=0, keepdims=True)"
      ],
      "metadata": {
        "id": "e_dFQatMUA2n"
      },
      "execution_count": null,
      "outputs": []
    },
    {
      "cell_type": "code",
      "source": [
        "D, N = 8, 7\n",
        "x = np.random.randn(N, D)\n",
        "y = np.sum(x, axis=0, keepdims=True)"
      ],
      "metadata": {
        "id": "7uD0rqDOUPGo"
      },
      "execution_count": null,
      "outputs": []
    },
    {
      "cell_type": "code",
      "source": [
        "dy = np.random.randn(1, D)\n",
        "dx = np.repeat(dy, N, axis=0)"
      ],
      "metadata": {
        "id": "cSUDoY2fVPug"
      },
      "execution_count": null,
      "outputs": []
    },
    {
      "cell_type": "markdown",
      "source": [
        "## 행렬 곱 노드 역전파 구현"
      ],
      "metadata": {
        "id": "zfH_XdV1XJaw"
      }
    },
    {
      "cell_type": "code",
      "source": [
        "class MatMul:\n",
        "    def __init__(self, W):\n",
        "        self.params = [W]\n",
        "        self.grads = [np.zeros_like(W)]\n",
        "        self.x = None\n",
        "\n",
        "    def forward(self, x):\n",
        "        W, = self.params\n",
        "        out = np.matmul(x, W)\n",
        "        self.x = x\n",
        "        return out\n",
        "\n",
        "    def backward(self, dout):\n",
        "        W, = self.params\n",
        "        dx = np.matmul(dout, W.T)\n",
        "        dW = np.matmul(self.x.T, dout)\n",
        "        self.grads[0][...]=dW\n",
        "        return dx"
      ],
      "metadata": {
        "id": "ZHoHKkEdVZ4Z"
      },
      "execution_count": null,
      "outputs": []
    },
    {
      "cell_type": "code",
      "source": [
        "a = np.array([1, 2, 3])\n",
        "b = np.array([4, 5, 6])"
      ],
      "metadata": {
        "id": "QqvW_A1VXwqC"
      },
      "execution_count": null,
      "outputs": []
    },
    {
      "cell_type": "markdown",
      "source": [
        "## 시그모이드 계층 구현"
      ],
      "metadata": {
        "id": "JO1dRufEYlB9"
      }
    },
    {
      "cell_type": "code",
      "source": [
        "class Sigmoid:\n",
        "    def __init__(self):\n",
        "        self.params, self.grads = [],[]\n",
        "        self.out = None\n",
        "\n",
        "    def forward(self, x):\n",
        "        out = 1/(1 + np.exp(-x))\n",
        "        self.out = out\n",
        "        return out\n",
        "\n",
        "    def backward(self, dout):\n",
        "        dx = dout * (1.0 - self.out) * self.out\n",
        "        return dx"
      ],
      "metadata": {
        "id": "U9hGrzIWX-oK"
      },
      "execution_count": null,
      "outputs": []
    },
    {
      "cell_type": "markdown",
      "source": [
        "## Affine계층 구현"
      ],
      "metadata": {
        "id": "ufNWgttPZaQS"
      }
    },
    {
      "cell_type": "code",
      "source": [
        "class Affine:\n",
        "    def __init__(self, W, b):\n",
        "        self.params = [W, b]\n",
        "        self.grads = [np.zeros_like(W), np.zeros_like(b)]\n",
        "        self.x = None\n",
        "\n",
        "    def forward(self, x):\n",
        "        W, b = self.params\n",
        "        out = np.matmul(x, W) + b\n",
        "        self.x = x\n",
        "        return out\n",
        "\n",
        "    def backward(self, dout):\n",
        "        W, b = self.params\n",
        "        dx = np.matmul(dout, W.T)\n",
        "        dW = np.matmul(self.x.T, dout)\n",
        "        db = np.sum(dout, axis=0)\n",
        "\n",
        "        self.grads[0][...] = dW\n",
        "        self.grads[1][...] = db\n",
        "        return dx"
      ],
      "metadata": {
        "id": "bRCWrhNCZBov"
      },
      "execution_count": null,
      "outputs": []
    },
    {
      "cell_type": "code",
      "source": [],
      "metadata": {
        "id": "ooOLA4ocaNRu"
      },
      "execution_count": null,
      "outputs": []
    }
  ]
}